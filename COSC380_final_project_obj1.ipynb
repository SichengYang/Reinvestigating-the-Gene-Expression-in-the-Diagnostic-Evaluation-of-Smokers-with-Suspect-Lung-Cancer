{
 "cells": [
  {
   "cell_type": "markdown",
   "metadata": {},
   "source": [
    "Title: Finding a better model\n",
    "\n",
    "Authors: Xi Chen, Lap Pui Chung, Sicheng Yang\n",
    "\n",
    "Date Created: 1/23/22\n",
    "\n",
    "Instrutor: Professor Steinwand\n",
    "\n",
    "Course: COSC 380\n",
    "_______\n",
    "This notebook was written for the final project.\n",
    "\n",
    "The main aim is to create a model that can outperform the model from the research paper (A.K.A trying to achieve an accuracy beyond 83%)\n"
   ]
  },
  {
   "cell_type": "code",
   "execution_count": 87,
   "metadata": {},
   "outputs": [],
   "source": [
    "import pandas as pd \n",
    "import numpy as np \n",
    "from sklearn.neural_network import MLPClassifier\n",
    "import xgboost as xgb\n",
    "from sklearn.model_selection import GridSearchCV, RandomizedSearchCV, train_test_split\n",
    "from sklearn.metrics import confusion_matrix, accuracy_score\n",
    "from sklearn.ensemble import RandomForestClassifier, VotingClassifier\n",
    "from sklearn.linear_model import LogisticRegression\n",
    "from sklearn.svm import LinearSVC\n",
    "from sklearn.neighbors import KNeighborsClassifier\n",
    "import matplotlib.pyplot as plt\n",
    "np.random.seed(888) "
   ]
  },
  {
   "cell_type": "code",
   "execution_count": 88,
   "metadata": {},
   "outputs": [],
   "source": [
    "# getting the data \n",
    "df = pd.read_csv('COSC380_data.csv')"
   ]
  },
  {
   "cell_type": "code",
   "execution_count": 89,
   "metadata": {},
   "outputs": [],
   "source": [
    "# transform the dataframe into a format that's analyzable\n",
    "df = df.T # transpose the dataframe\n",
    "df = df.rename(columns=df.iloc[0]).drop(df.index[0]).reset_index(drop=True) # move the title to the index column "
   ]
  },
  {
   "cell_type": "code",
   "execution_count": 90,
   "metadata": {},
   "outputs": [
    {
     "data": {
      "text/html": [
       "<div>\n",
       "<style scoped>\n",
       "    .dataframe tbody tr th:only-of-type {\n",
       "        vertical-align: middle;\n",
       "    }\n",
       "\n",
       "    .dataframe tbody tr th {\n",
       "        vertical-align: top;\n",
       "    }\n",
       "\n",
       "    .dataframe thead th {\n",
       "        text-align: right;\n",
       "    }\n",
       "</style>\n",
       "<table border=\"1\" class=\"dataframe\">\n",
       "  <thead>\n",
       "    <tr style=\"text-align: right;\">\n",
       "      <th></th>\n",
       "      <th>Diagnostic</th>\n",
       "      <th>1007_s_at</th>\n",
       "      <th>1053_at</th>\n",
       "      <th>117_at</th>\n",
       "      <th>121_at</th>\n",
       "      <th>1255_g_at</th>\n",
       "      <th>1294_at</th>\n",
       "      <th>1316_at</th>\n",
       "      <th>1320_at</th>\n",
       "      <th>1405_i_at</th>\n",
       "      <th>...</th>\n",
       "      <th>90610_at</th>\n",
       "      <th>91580_at</th>\n",
       "      <th>91617_at</th>\n",
       "      <th>91682_at</th>\n",
       "      <th>91684_g_at</th>\n",
       "      <th>91703_at</th>\n",
       "      <th>91816_f_at</th>\n",
       "      <th>91826_at</th>\n",
       "      <th>91920_at</th>\n",
       "      <th>91952_at</th>\n",
       "    </tr>\n",
       "  </thead>\n",
       "  <tbody>\n",
       "    <tr>\n",
       "      <th>0</th>\n",
       "      <td>0.0</td>\n",
       "      <td>10.696879</td>\n",
       "      <td>4.23617</td>\n",
       "      <td>5.345251</td>\n",
       "      <td>7.919187</td>\n",
       "      <td>3.478706</td>\n",
       "      <td>7.142456</td>\n",
       "      <td>4.814028</td>\n",
       "      <td>4.112987</td>\n",
       "      <td>6.948436</td>\n",
       "      <td>...</td>\n",
       "      <td>7.373103</td>\n",
       "      <td>3.232875</td>\n",
       "      <td>5.466897</td>\n",
       "      <td>5.952681</td>\n",
       "      <td>5.102564</td>\n",
       "      <td>5.49959</td>\n",
       "      <td>5.209175</td>\n",
       "      <td>7.569331</td>\n",
       "      <td>6.74773</td>\n",
       "      <td>5.968678</td>\n",
       "    </tr>\n",
       "    <tr>\n",
       "      <th>1</th>\n",
       "      <td>1.0</td>\n",
       "      <td>10.560653</td>\n",
       "      <td>4.173343</td>\n",
       "      <td>5.788414</td>\n",
       "      <td>8.180133</td>\n",
       "      <td>3.745022</td>\n",
       "      <td>7.667475</td>\n",
       "      <td>5.254227</td>\n",
       "      <td>4.303188</td>\n",
       "      <td>5.243215</td>\n",
       "      <td>...</td>\n",
       "      <td>7.714989</td>\n",
       "      <td>3.491614</td>\n",
       "      <td>5.597842</td>\n",
       "      <td>6.394273</td>\n",
       "      <td>5.452602</td>\n",
       "      <td>5.669695</td>\n",
       "      <td>4.375323</td>\n",
       "      <td>8.200798</td>\n",
       "      <td>7.133049</td>\n",
       "      <td>6.531528</td>\n",
       "    </tr>\n",
       "    <tr>\n",
       "      <th>2</th>\n",
       "      <td>1.0</td>\n",
       "      <td>9.939516</td>\n",
       "      <td>4.559698</td>\n",
       "      <td>5.924607</td>\n",
       "      <td>8.207125</td>\n",
       "      <td>3.630689</td>\n",
       "      <td>7.807055</td>\n",
       "      <td>5.364942</td>\n",
       "      <td>4.498574</td>\n",
       "      <td>5.108143</td>\n",
       "      <td>...</td>\n",
       "      <td>8.707332</td>\n",
       "      <td>3.655863</td>\n",
       "      <td>5.934463</td>\n",
       "      <td>6.547563</td>\n",
       "      <td>5.97831</td>\n",
       "      <td>6.043272</td>\n",
       "      <td>4.88996</td>\n",
       "      <td>8.535591</td>\n",
       "      <td>7.601025</td>\n",
       "      <td>6.540102</td>\n",
       "    </tr>\n",
       "    <tr>\n",
       "      <th>3</th>\n",
       "      <td>1.0</td>\n",
       "      <td>10.299866</td>\n",
       "      <td>4.359738</td>\n",
       "      <td>5.583276</td>\n",
       "      <td>8.213886</td>\n",
       "      <td>3.653105</td>\n",
       "      <td>7.5098</td>\n",
       "      <td>5.103016</td>\n",
       "      <td>4.137036</td>\n",
       "      <td>5.450892</td>\n",
       "      <td>...</td>\n",
       "      <td>7.253566</td>\n",
       "      <td>3.333656</td>\n",
       "      <td>5.259695</td>\n",
       "      <td>6.299795</td>\n",
       "      <td>5.622406</td>\n",
       "      <td>5.984586</td>\n",
       "      <td>4.613341</td>\n",
       "      <td>7.427216</td>\n",
       "      <td>7.121853</td>\n",
       "      <td>6.43766</td>\n",
       "    </tr>\n",
       "    <tr>\n",
       "      <th>4</th>\n",
       "      <td>1.0</td>\n",
       "      <td>10.467122</td>\n",
       "      <td>4.245888</td>\n",
       "      <td>5.785865</td>\n",
       "      <td>8.184135</td>\n",
       "      <td>3.718874</td>\n",
       "      <td>7.588953</td>\n",
       "      <td>5.233377</td>\n",
       "      <td>4.029887</td>\n",
       "      <td>4.745138</td>\n",
       "      <td>...</td>\n",
       "      <td>7.898104</td>\n",
       "      <td>3.511188</td>\n",
       "      <td>5.409353</td>\n",
       "      <td>6.27696</td>\n",
       "      <td>5.445675</td>\n",
       "      <td>5.611665</td>\n",
       "      <td>4.369342</td>\n",
       "      <td>8.122028</td>\n",
       "      <td>7.201006</td>\n",
       "      <td>6.31612</td>\n",
       "    </tr>\n",
       "    <tr>\n",
       "      <th>...</th>\n",
       "      <td>...</td>\n",
       "      <td>...</td>\n",
       "      <td>...</td>\n",
       "      <td>...</td>\n",
       "      <td>...</td>\n",
       "      <td>...</td>\n",
       "      <td>...</td>\n",
       "      <td>...</td>\n",
       "      <td>...</td>\n",
       "      <td>...</td>\n",
       "      <td>...</td>\n",
       "      <td>...</td>\n",
       "      <td>...</td>\n",
       "      <td>...</td>\n",
       "      <td>...</td>\n",
       "      <td>...</td>\n",
       "      <td>...</td>\n",
       "      <td>...</td>\n",
       "      <td>...</td>\n",
       "      <td>...</td>\n",
       "      <td>...</td>\n",
       "    </tr>\n",
       "    <tr>\n",
       "      <th>182</th>\n",
       "      <td>0.0</td>\n",
       "      <td>9.867062</td>\n",
       "      <td>4.347193</td>\n",
       "      <td>6.077813</td>\n",
       "      <td>8.386588</td>\n",
       "      <td>4.069206</td>\n",
       "      <td>7.144349</td>\n",
       "      <td>5.638766</td>\n",
       "      <td>4.329403</td>\n",
       "      <td>4.826731</td>\n",
       "      <td>...</td>\n",
       "      <td>7.786588</td>\n",
       "      <td>3.599751</td>\n",
       "      <td>5.267918</td>\n",
       "      <td>6.524704</td>\n",
       "      <td>5.113098</td>\n",
       "      <td>5.857281</td>\n",
       "      <td>4.359785</td>\n",
       "      <td>7.437855</td>\n",
       "      <td>7.289262</td>\n",
       "      <td>6.378412</td>\n",
       "    </tr>\n",
       "    <tr>\n",
       "      <th>183</th>\n",
       "      <td>0.0</td>\n",
       "      <td>9.655055</td>\n",
       "      <td>4.556167</td>\n",
       "      <td>5.856299</td>\n",
       "      <td>8.251081</td>\n",
       "      <td>4.003426</td>\n",
       "      <td>7.345543</td>\n",
       "      <td>5.531227</td>\n",
       "      <td>4.647367</td>\n",
       "      <td>6.8435</td>\n",
       "      <td>...</td>\n",
       "      <td>8.474055</td>\n",
       "      <td>3.606413</td>\n",
       "      <td>5.693594</td>\n",
       "      <td>6.505405</td>\n",
       "      <td>5.403037</td>\n",
       "      <td>5.937764</td>\n",
       "      <td>5.005638</td>\n",
       "      <td>8.12829</td>\n",
       "      <td>7.407037</td>\n",
       "      <td>6.579881</td>\n",
       "    </tr>\n",
       "    <tr>\n",
       "      <th>184</th>\n",
       "      <td>0.0</td>\n",
       "      <td>10.072952</td>\n",
       "      <td>4.356708</td>\n",
       "      <td>5.657181</td>\n",
       "      <td>8.118552</td>\n",
       "      <td>3.887196</td>\n",
       "      <td>7.696534</td>\n",
       "      <td>5.335557</td>\n",
       "      <td>4.48411</td>\n",
       "      <td>6.477846</td>\n",
       "      <td>...</td>\n",
       "      <td>8.247335</td>\n",
       "      <td>3.769988</td>\n",
       "      <td>6.173629</td>\n",
       "      <td>6.379607</td>\n",
       "      <td>5.435393</td>\n",
       "      <td>5.575707</td>\n",
       "      <td>5.070739</td>\n",
       "      <td>8.391724</td>\n",
       "      <td>7.29318</td>\n",
       "      <td>6.145892</td>\n",
       "    </tr>\n",
       "    <tr>\n",
       "      <th>185</th>\n",
       "      <td>0.0</td>\n",
       "      <td>10.407795</td>\n",
       "      <td>4.37766</td>\n",
       "      <td>5.667295</td>\n",
       "      <td>8.110224</td>\n",
       "      <td>3.713854</td>\n",
       "      <td>7.621459</td>\n",
       "      <td>5.252291</td>\n",
       "      <td>4.241374</td>\n",
       "      <td>6.598051</td>\n",
       "      <td>...</td>\n",
       "      <td>8.028244</td>\n",
       "      <td>3.546674</td>\n",
       "      <td>5.857019</td>\n",
       "      <td>6.226623</td>\n",
       "      <td>5.604968</td>\n",
       "      <td>6.195327</td>\n",
       "      <td>5.160318</td>\n",
       "      <td>8.898482</td>\n",
       "      <td>6.997851</td>\n",
       "      <td>6.451517</td>\n",
       "    </tr>\n",
       "    <tr>\n",
       "      <th>186</th>\n",
       "      <td>0.0</td>\n",
       "      <td>9.622821</td>\n",
       "      <td>4.359618</td>\n",
       "      <td>6.150318</td>\n",
       "      <td>8.277467</td>\n",
       "      <td>3.829989</td>\n",
       "      <td>7.255572</td>\n",
       "      <td>5.418568</td>\n",
       "      <td>4.457643</td>\n",
       "      <td>6.83864</td>\n",
       "      <td>...</td>\n",
       "      <td>7.917359</td>\n",
       "      <td>3.518806</td>\n",
       "      <td>5.2645</td>\n",
       "      <td>6.441155</td>\n",
       "      <td>5.734231</td>\n",
       "      <td>5.769236</td>\n",
       "      <td>4.593401</td>\n",
       "      <td>7.806006</td>\n",
       "      <td>7.132704</td>\n",
       "      <td>6.405099</td>\n",
       "    </tr>\n",
       "  </tbody>\n",
       "</table>\n",
       "<p>187 rows × 22216 columns</p>\n",
       "</div>"
      ],
      "text/plain": [
       "    Diagnostic  1007_s_at   1053_at    117_at    121_at 1255_g_at   1294_at  \\\n",
       "0          0.0  10.696879   4.23617  5.345251  7.919187  3.478706  7.142456   \n",
       "1          1.0  10.560653  4.173343  5.788414  8.180133  3.745022  7.667475   \n",
       "2          1.0   9.939516  4.559698  5.924607  8.207125  3.630689  7.807055   \n",
       "3          1.0  10.299866  4.359738  5.583276  8.213886  3.653105    7.5098   \n",
       "4          1.0  10.467122  4.245888  5.785865  8.184135  3.718874  7.588953   \n",
       "..         ...        ...       ...       ...       ...       ...       ...   \n",
       "182        0.0   9.867062  4.347193  6.077813  8.386588  4.069206  7.144349   \n",
       "183        0.0   9.655055  4.556167  5.856299  8.251081  4.003426  7.345543   \n",
       "184        0.0  10.072952  4.356708  5.657181  8.118552  3.887196  7.696534   \n",
       "185        0.0  10.407795   4.37766  5.667295  8.110224  3.713854  7.621459   \n",
       "186        0.0   9.622821  4.359618  6.150318  8.277467  3.829989  7.255572   \n",
       "\n",
       "      1316_at   1320_at 1405_i_at  ...  90610_at  91580_at  91617_at  \\\n",
       "0    4.814028  4.112987  6.948436  ...  7.373103  3.232875  5.466897   \n",
       "1    5.254227  4.303188  5.243215  ...  7.714989  3.491614  5.597842   \n",
       "2    5.364942  4.498574  5.108143  ...  8.707332  3.655863  5.934463   \n",
       "3    5.103016  4.137036  5.450892  ...  7.253566  3.333656  5.259695   \n",
       "4    5.233377  4.029887  4.745138  ...  7.898104  3.511188  5.409353   \n",
       "..        ...       ...       ...  ...       ...       ...       ...   \n",
       "182  5.638766  4.329403  4.826731  ...  7.786588  3.599751  5.267918   \n",
       "183  5.531227  4.647367    6.8435  ...  8.474055  3.606413  5.693594   \n",
       "184  5.335557   4.48411  6.477846  ...  8.247335  3.769988  6.173629   \n",
       "185  5.252291  4.241374  6.598051  ...  8.028244  3.546674  5.857019   \n",
       "186  5.418568  4.457643   6.83864  ...  7.917359  3.518806    5.2645   \n",
       "\n",
       "     91682_at 91684_g_at  91703_at 91816_f_at  91826_at  91920_at  91952_at  \n",
       "0    5.952681   5.102564   5.49959   5.209175  7.569331   6.74773  5.968678  \n",
       "1    6.394273   5.452602  5.669695   4.375323  8.200798  7.133049  6.531528  \n",
       "2    6.547563    5.97831  6.043272    4.88996  8.535591  7.601025  6.540102  \n",
       "3    6.299795   5.622406  5.984586   4.613341  7.427216  7.121853   6.43766  \n",
       "4     6.27696   5.445675  5.611665   4.369342  8.122028  7.201006   6.31612  \n",
       "..        ...        ...       ...        ...       ...       ...       ...  \n",
       "182  6.524704   5.113098  5.857281   4.359785  7.437855  7.289262  6.378412  \n",
       "183  6.505405   5.403037  5.937764   5.005638   8.12829  7.407037  6.579881  \n",
       "184  6.379607   5.435393  5.575707   5.070739  8.391724   7.29318  6.145892  \n",
       "185  6.226623   5.604968  6.195327   5.160318  8.898482  6.997851  6.451517  \n",
       "186  6.441155   5.734231  5.769236   4.593401  7.806006  7.132704  6.405099  \n",
       "\n",
       "[187 rows x 22216 columns]"
      ]
     },
     "execution_count": 90,
     "metadata": {},
     "output_type": "execute_result"
    }
   ],
   "source": [
    "df"
   ]
  },
  {
   "cell_type": "code",
   "execution_count": 91,
   "metadata": {},
   "outputs": [],
   "source": [
    "# creating a list of genes that the research has identified from the paper\n",
    "identified_genes = ['203881_s_at','203413_at','209656_s_at','221310_at','209369_at','209267_s_at','210145_at','214146_s_at','218976_at','210397_at','211506_s_at','210168_at','209774_x_at',\n",
    "'204006_s_at','208892_s_at','202833_s_at','216834_at','202935_s_at','202704_at','201926_s_at','209189_at','201925_s_at','201444_s_at','203908_at','201946_s_at','208654_s_at',\n",
    "'200760_s_at','201399_s_at','212006_at','210317_s_at','207791_s_at','201689_s_at','204427_s_at','202118_s_at','220199_s_at','217826_s_at','200729_s_at','201635_s_at',\n",
    "'214007_s_at','221765_at','215628_x_at','207756_at','206056_x_at','207953_at','215208_x_at','215609_at','216858_x_at','204403_x_at','215978_x_at','222104_x_at','208246_x_at',\n",
    "'208137_x_at','206169_x_at','210679_x_at','215604_x_at','219392_x_at','215600_x_at','217715_x_at','214594_x_at','214715_x_at','218155_x_at','214707_x_at','217679_x_at','215907_at',\n",
    "'217653_x_at','207730_x_at','219678_x_at','220720_x_at','213089_at','217446_x_at','222358_x_at','215800_at','221191_at','209204_at','215204_at','215385_at','213813_x_at','220389_at','213736_at','222027_at']"
   ]
  },
  {
   "cell_type": "code",
   "execution_count": 92,
   "metadata": {},
   "outputs": [],
   "source": [
    "# creating features and labels\n",
    "X_80_genes = df[identified_genes].astype('float')\n",
    "y = df['Diagnostic'].astype('uint8')"
   ]
  },
  {
   "cell_type": "code",
   "execution_count": 93,
   "metadata": {},
   "outputs": [],
   "source": [
    "# splitting the dataset\n",
    "X_train, X_test, y_train, y_test = train_test_split(\n",
    "    X_80_genes, y, test_size=0.3, random_state=888)"
   ]
  },
  {
   "cell_type": "code",
   "execution_count": 94,
   "metadata": {},
   "outputs": [
    {
     "data": {
      "text/plain": [
       "1    67\n",
       "0    63\n",
       "Name: Diagnostic, dtype: int64"
      ]
     },
     "execution_count": 94,
     "metadata": {},
     "output_type": "execute_result"
    }
   ],
   "source": [
    "# making sure the both sides of the label are balanced\n",
    "y_train.value_counts()"
   ]
  },
  {
   "cell_type": "code",
   "execution_count": 96,
   "metadata": {},
   "outputs": [],
   "source": [
    "# disable warning\n",
    "from warnings import simplefilter\n",
    "from sklearn.exceptions import ConvergenceWarning\n",
    "\n",
    "simplefilter(\"ignore\", category=ConvergenceWarning)"
   ]
  },
  {
   "cell_type": "code",
   "execution_count": null,
   "metadata": {},
   "outputs": [
    {
     "name": "stdout",
     "output_type": "stream",
     "text": [
      "Best parameters: {'alpha': 0.1, 'hidden_layer_sizes': 11, 'max_iter': 1000, 'random_state': 888, 'solver': 'lbfgs'}\n"
     ]
    }
   ],
   "source": [
    "# searching the best parameters for neural network\n",
    "nn_parameters = {'solver': ['lbfgs'], 'max_iter': [500,1000,1500], 'alpha': 10.0 ** -np.arange(1, 7), 'hidden_layer_sizes':np.arange(5, 12), 'random_state':[888]}\n",
    "nn_clf = MLPClassifier(early_stopping=True) # early stopping was set to true to avoid overfitting \n",
    "\n",
    "nn_grid_search = GridSearchCV(nn_clf, nn_parameters, return_train_score=True)\n",
    "\n",
    "nn_grid_search.fit(X_train, y_train)\n",
    "\n",
    "print(\"Best parameters:\", nn_grid_search.best_params_)"
   ]
  },
  {
   "cell_type": "code",
   "execution_count": null,
   "metadata": {},
   "outputs": [
    {
     "name": "stdout",
     "output_type": "stream",
     "text": [
      "Fitting 5 folds for each of 25 candidates, totalling 125 fits\n",
      "Best parameters: {'subsample': 0.6, 'n_estimators': 500, 'max_depth': 15, 'learning_rate': 0.3, 'colsample_bytree': 0.7999999999999999, 'colsample_bylevel': 0.5}\n"
     ]
    }
   ],
   "source": [
    "# searching the best parameters for XGBoost \n",
    "xgb_params = { 'max_depth': [3, 5, 6, 10, 15, 20],\n",
    "           'learning_rate': [0.01, 0.1, 0.2, 0.3],\n",
    "           'subsample': np.arange(0.5, 1.0, 0.1),\n",
    "           'colsample_bytree': np.arange(0.4, 1.0, 0.1),\n",
    "           'colsample_bylevel': np.arange(0.4, 1.0, 0.1),\n",
    "           'n_estimators': [100, 500, 1000]}\n",
    "\n",
    "# verbosity=0, use_label_encoder=False to remove warning\n",
    "xgb_clf = xgb.XGBClassifier(random=888, gamma=10, verbosity=0, use_label_encoder=False)\n",
    "\n",
    "xgb_tune_clf = RandomizedSearchCV(estimator=xgb_clf,\n",
    "                         param_distributions=xgb_params,\n",
    "                         scoring='neg_mean_squared_error',\n",
    "                         n_iter=25,\n",
    "                         verbose=1,)\n",
    "\n",
    "xgb_tune_clf.fit(X_train, y_train)\n",
    "print(\"Best parameters:\", xgb_tune_clf.best_params_)\n",
    "\n",
    "# The output was manually collapsed because it's way too long"
   ]
  },
  {
   "cell_type": "code",
   "execution_count": null,
   "metadata": {},
   "outputs": [
    {
     "name": "stdout",
     "output_type": "stream",
     "text": [
      "Best parameters: {'criterion': 'gini', 'n_estimators': 100, 'random_state': 888}\n"
     ]
    }
   ],
   "source": [
    "# searching the best parameters for random forest \n",
    "forest_param = { 'n_estimators': np.arange(80,150,10),\n",
    "                'criterion':['gini'],\n",
    "                'random_state':[888]}\n",
    "rf_clf = RandomForestClassifier()\n",
    "rf_grid_search = GridSearchCV(rf_clf, forest_param, scoring = 'accuracy')\n",
    "rf_grid_search.fit(X_train, y_train)\n",
    "print(\"Best parameters:\", rf_grid_search.best_params_)"
   ]
  },
  {
   "cell_type": "code",
   "execution_count": null,
   "metadata": {},
   "outputs": [
    {
     "name": "stdout",
     "output_type": "stream",
     "text": [
      "Fitting 5 folds for each of 5 candidates, totalling 25 fits\n",
      "[CV] END ..............................................C=0.1; total time=   0.0s\n",
      "[CV] END ..............................................C=0.1; total time=   0.0s\n",
      "[CV] END ..............................................C=0.1; total time=   0.0s\n",
      "[CV] END ..............................................C=0.1; total time=   0.0s\n",
      "[CV] END ..............................................C=0.1; total time=   0.0s\n",
      "[CV] END ................................................C=1; total time=   0.0s\n",
      "[CV] END ................................................C=1; total time=   0.0s\n",
      "[CV] END ................................................C=1; total time=   0.0s\n",
      "[CV] END ................................................C=1; total time=   0.0s\n",
      "[CV] END ................................................C=1; total time=   0.0s\n",
      "[CV] END ...............................................C=10; total time=   0.0s\n",
      "[CV] END ...............................................C=10; total time=   0.0s\n",
      "[CV] END ...............................................C=10; total time=   0.0s\n",
      "[CV] END ...............................................C=10; total time=   0.0s\n",
      "[CV] END ...............................................C=10; total time=   0.0s\n",
      "[CV] END ..............................................C=100; total time=   0.0s\n",
      "[CV] END ..............................................C=100; total time=   0.0s\n",
      "[CV] END ..............................................C=100; total time=   0.0s\n",
      "[CV] END ..............................................C=100; total time=   0.0s\n",
      "[CV] END ..............................................C=100; total time=   0.0s\n",
      "[CV] END .............................................C=1000; total time=   0.0s\n",
      "[CV] END .............................................C=1000; total time=   0.0s\n",
      "[CV] END .............................................C=1000; total time=   0.0s\n",
      "[CV] END .............................................C=1000; total time=   0.0s\n",
      "[CV] END .............................................C=1000; total time=   0.0s\n",
      "Best parameters: {'C': 0.1}\n"
     ]
    }
   ],
   "source": [
    "# searching the best parameters for SVM\n",
    "svc_param = {'C': [0.1, 1, 10, 100, 1000]}\n",
    "\n",
    "svc_clf = LinearSVC(random_state=888)\n",
    "svc_grid_search = GridSearchCV(svc_clf, svc_param, cv=5, scoring='accuracy', verbose=2)\n",
    "svc_grid_search.fit(X_train, y_train)\n",
    "print(\"Best parameters:\", svc_grid_search.best_params_)"
   ]
  },
  {
   "cell_type": "code",
   "execution_count": null,
   "metadata": {},
   "outputs": [
    {
     "name": "stdout",
     "output_type": "stream",
     "text": [
      "Best parameters: {'C': 0.1, 'penalty': 'l2'}\n"
     ]
    },
    {
     "name": "stderr",
     "output_type": "stream",
     "text": [
      "/usr/local/lib/python3.9/site-packages/sklearn/model_selection/_validation.py:372: FitFailedWarning: \n",
      "35 fits failed out of a total of 70.\n",
      "The score on these train-test partitions for these parameters will be set to nan.\n",
      "If these failures are not expected, you can try to debug them by setting error_score='raise'.\n",
      "\n",
      "Below are more details about the failures:\n",
      "--------------------------------------------------------------------------------\n",
      "35 fits failed with the following error:\n",
      "Traceback (most recent call last):\n",
      "  File \"/usr/local/lib/python3.9/site-packages/sklearn/model_selection/_validation.py\", line 681, in _fit_and_score\n",
      "    estimator.fit(X_train, y_train, **fit_params)\n",
      "  File \"/usr/local/lib/python3.9/site-packages/sklearn/linear_model/_logistic.py\", line 1461, in fit\n",
      "    solver = _check_solver(self.solver, self.penalty, self.dual)\n",
      "  File \"/usr/local/lib/python3.9/site-packages/sklearn/linear_model/_logistic.py\", line 447, in _check_solver\n",
      "    raise ValueError(\n",
      "ValueError: Solver lbfgs supports only 'l2' or 'none' penalties, got l1 penalty.\n",
      "\n",
      "  warnings.warn(some_fits_failed_message, FitFailedWarning)\n",
      "/usr/local/lib/python3.9/site-packages/sklearn/model_selection/_search.py:969: UserWarning: One or more of the test scores are non-finite: [       nan 0.63076923        nan 0.67692308        nan 0.73076923\n",
      "        nan 0.7               nan 0.65384615        nan 0.65384615\n",
      "        nan 0.66153846]\n",
      "  warnings.warn(\n"
     ]
    }
   ],
   "source": [
    "# searching the best parameters for logistic regression\n",
    "logit_param = {'penalty': ['l1','l2'], 'C': [0.001,0.01,0.1,1,10,100,1000]}\n",
    "\n",
    "logit_clf = LogisticRegression(random_state=888)\n",
    "logit_grid_search = GridSearchCV(logit_clf, logit_param, cv=5, scoring='accuracy')\n",
    "logit_grid_search.fit(X_train, y_train)\n",
    "print(\"Best parameters:\", logit_grid_search.best_params_)"
   ]
  },
  {
   "cell_type": "code",
   "execution_count": null,
   "metadata": {},
   "outputs": [
    {
     "name": "stdout",
     "output_type": "stream",
     "text": [
      "Best parameters: {'leaf_size': 20, 'n_neighbors': 4, 'p': 2}\n"
     ]
    }
   ],
   "source": [
    "# searching the best parameters for k-nearest neighbor \n",
    "knn_param = {'n_neighbors': np.arange(2,30), 'p':[1,2], 'leaf_size':np.arange(20,50,5)}\n",
    "\n",
    "knn_clf = KNeighborsClassifier()\n",
    "knn_grid_search = GridSearchCV(knn_clf, knn_param, cv=5, scoring='accuracy')\n",
    "knn_grid_search.fit(X_train,y_train)\n",
    "print(\"Best parameters:\", knn_grid_search.best_params_)"
   ]
  },
  {
   "cell_type": "code",
   "execution_count": null,
   "metadata": {},
   "outputs": [
    {
     "name": "stderr",
     "output_type": "stream",
     "text": [
      "/usr/local/lib/python3.9/site-packages/sklearn/model_selection/_validation.py:372: FitFailedWarning: \n",
      "35 fits failed out of a total of 70.\n",
      "The score on these train-test partitions for these parameters will be set to nan.\n",
      "If these failures are not expected, you can try to debug them by setting error_score='raise'.\n",
      "\n",
      "Below are more details about the failures:\n",
      "--------------------------------------------------------------------------------\n",
      "35 fits failed with the following error:\n",
      "Traceback (most recent call last):\n",
      "  File \"/usr/local/lib/python3.9/site-packages/sklearn/model_selection/_validation.py\", line 681, in _fit_and_score\n",
      "    estimator.fit(X_train, y_train, **fit_params)\n",
      "  File \"/usr/local/lib/python3.9/site-packages/sklearn/linear_model/_logistic.py\", line 1461, in fit\n",
      "    solver = _check_solver(self.solver, self.penalty, self.dual)\n",
      "  File \"/usr/local/lib/python3.9/site-packages/sklearn/linear_model/_logistic.py\", line 447, in _check_solver\n",
      "    raise ValueError(\n",
      "ValueError: Solver lbfgs supports only 'l2' or 'none' penalties, got l1 penalty.\n",
      "\n",
      "  warnings.warn(some_fits_failed_message, FitFailedWarning)\n",
      "/usr/local/lib/python3.9/site-packages/sklearn/model_selection/_search.py:969: UserWarning: One or more of the test scores are non-finite: [       nan 0.63076923        nan 0.67692308        nan 0.73076923\n",
      "        nan 0.7               nan 0.65384615        nan 0.65384615\n",
      "        nan 0.66153846]\n",
      "  warnings.warn(\n"
     ]
    },
    {
     "name": "stdout",
     "output_type": "stream",
     "text": [
      "Fitting 5 folds for each of 5 candidates, totalling 25 fits\n",
      "[CV] END ..............................................C=0.1; total time=   0.0s\n",
      "[CV] END ..............................................C=0.1; total time=   0.0s\n",
      "[CV] END ..............................................C=0.1; total time=   0.0s\n",
      "[CV] END ..............................................C=0.1; total time=   0.0s\n",
      "[CV] END ..............................................C=0.1; total time=   0.0s\n",
      "[CV] END ................................................C=1; total time=   0.0s\n",
      "[CV] END ................................................C=1; total time=   0.0s\n",
      "[CV] END ................................................C=1; total time=   0.0s\n",
      "[CV] END ................................................C=1; total time=   0.0s\n",
      "[CV] END ................................................C=1; total time=   0.0s\n",
      "[CV] END ...............................................C=10; total time=   0.0s\n",
      "[CV] END ...............................................C=10; total time=   0.0s\n",
      "[CV] END ...............................................C=10; total time=   0.0s\n",
      "[CV] END ...............................................C=10; total time=   0.0s\n",
      "[CV] END ...............................................C=10; total time=   0.0s\n",
      "[CV] END ..............................................C=100; total time=   0.0s\n",
      "[CV] END ..............................................C=100; total time=   0.0s\n",
      "[CV] END ..............................................C=100; total time=   0.0s\n",
      "[CV] END ..............................................C=100; total time=   0.0s\n",
      "[CV] END ..............................................C=100; total time=   0.0s\n",
      "[CV] END .............................................C=1000; total time=   0.0s\n",
      "[CV] END .............................................C=1000; total time=   0.0s\n",
      "[CV] END .............................................C=1000; total time=   0.0s\n",
      "[CV] END .............................................C=1000; total time=   0.0s\n",
      "[CV] END .............................................C=1000; total time=   0.0s\n"
     ]
    },
    {
     "data": {
      "text/plain": [
       "VotingClassifier(estimators=[('lr',\n",
       "                              GridSearchCV(cv=5,\n",
       "                                           estimator=LogisticRegression(random_state=888),\n",
       "                                           param_grid={'C': [0.001, 0.01, 0.1,\n",
       "                                                             1, 10, 100, 1000],\n",
       "                                                       'penalty': ['l1', 'l2']},\n",
       "                                           scoring='accuracy')),\n",
       "                             ('knn',\n",
       "                              GridSearchCV(cv=5,\n",
       "                                           estimator=KNeighborsClassifier(),\n",
       "                                           param_grid={'leaf_size': array([20, 25, 30, 35, 40, 45]),\n",
       "                                                       'n_neighbors': array([ 2,  3,  4,  5,  6,  7,  8,  9, 10, 11, 12, 13, 14, 15, 16, 17, 18,\n",
       "       19, 20, 21, 22, 23, 24, 25, 26, 27, 28, 29]),\n",
       "                                                       'p': [1, 2]},\n",
       "                                           scoring='accuracy')),\n",
       "                             ('svc',\n",
       "                              GridSearchCV(cv=5,\n",
       "                                           estimator=LinearSVC(random_state=888),\n",
       "                                           param_grid={'C': [0.1, 1, 10, 100,\n",
       "                                                             1000]},\n",
       "                                           scoring='accuracy', verbose=2))])"
      ]
     },
     "execution_count": 82,
     "metadata": {},
     "output_type": "execute_result"
    }
   ],
   "source": [
    "# combining SVM, logit, and knn into an ensemble\n",
    "voting_clf = VotingClassifier(\n",
    "    estimators=[('lr', logit_grid_search), ('knn', knn_grid_search), ('svc', svc_grid_search)],\n",
    "    voting='hard')\n",
    "\n",
    "voting_clf.fit(X_train, y_train)"
   ]
  },
  {
   "cell_type": "markdown",
   "metadata": {},
   "source": [
    "### Evaluating the models"
   ]
  },
  {
   "cell_type": "code",
   "execution_count": null,
   "metadata": {},
   "outputs": [],
   "source": [
    "models = [nn_grid_search, xgb_tune_clf, rf_grid_search, svc_grid_search, logit_grid_search, knn_grid_search, voting_clf]\n",
    "model_names = ['paper accuracy','neural network', 'XGBoost', 'random forests', 'SVM', 'logit', 'kNN', 'voting ensemble']"
   ]
  },
  {
   "cell_type": "code",
   "execution_count": null,
   "metadata": {},
   "outputs": [
    {
     "name": "stdout",
     "output_type": "stream",
     "text": [
      "neural network: 0.7894736842105263\n",
      "XGBoost: 0.6666666666666666\n",
      "random forests: 0.7017543859649122\n",
      "SVM: 0.7192982456140351\n",
      "logit: 0.7894736842105263\n",
      "kNN: 0.6491228070175439\n",
      "voting ensemble: 0.7543859649122807\n"
     ]
    }
   ],
   "source": [
    "# Evaluating the models based on test accuracy \n",
    "index = 1\n",
    "research_accu = 0.83 # original accuracy obtained from the research paper \n",
    "model_accu = [research_accu]\n",
    "for clf in models:\n",
    "    y_pred = clf.predict(X_test)\n",
    "    accu = accuracy_score(y_test, y_pred)\n",
    "    model_accu.append(accu)\n",
    "    print(model_names[index]+':', accu)\n",
    "    index +=1\n",
    "assert len(model_accu) <= 8"
   ]
  },
  {
   "cell_type": "code",
   "execution_count": null,
   "metadata": {},
   "outputs": [
    {
     "data": {
      "image/png": "[encoded data removed]",
      "text/plain": [
       "<Figure size 432x288 with 1 Axes>"
      ]
     },
     "metadata": {
      "needs_background": "light"
     },
     "output_type": "display_data"
    },
    {
     "data": {
      "text/plain": [
       "<Figure size 432x288 with 0 Axes>"
      ]
     },
     "metadata": {},
     "output_type": "display_data"
    }
   ],
   "source": [
    "# Displaying the accuracy of each model in a bar chart \n",
    "plt.bar(range(8), model_accu)\n",
    "plt.title(\"Test data accuracy for each model\") # add a title\n",
    "plt.ylim((0.60,0.90))\n",
    "plt.ylabel(\"Accuracy score\") # label the y-axis\n",
    "plt.xticks(range(8), model_names, rotation = 30) # label x-axis \n",
    "plt.show()\n",
    "plt.clf()"
   ]
  },
  {
   "cell_type": "code",
   "execution_count": null,
   "metadata": {},
   "outputs": [
    {
     "name": "stdout",
     "output_type": "stream",
     "text": [
      "neural network:\n",
      "[[22  5]\n",
      " [ 7 23]]\n",
      "XGBoost:\n",
      "[[22  5]\n",
      " [14 16]]\n",
      "random forests:\n",
      "[[22  5]\n",
      " [12 18]]\n",
      "SVM:\n",
      "[[20  7]\n",
      " [ 9 21]]\n",
      "logit:\n",
      "[[22  5]\n",
      " [ 7 23]]\n",
      "kNN:\n",
      "[[19  8]\n",
      " [12 18]]\n",
      "voting ensemble:\n",
      "[[21  6]\n",
      " [ 8 22]]\n"
     ]
    }
   ],
   "source": [
    "# printing out the confusion matrices\n",
    "index = 1 # skip paper for indexing\n",
    "for clf in models:\n",
    "    y_pred = clf.predict(X_test)\n",
    "    print(model_names[index]+':')\n",
    "    print(confusion_matrix(y_test, y_pred))\n",
    "    index +=1"
   ]
  }
 ],
 "metadata": {
  "interpreter": {
   "hash": "9056a989d55af7ec00911c0a47477c8acfe40ea8532ecdb52e3ecffe1643ba6a"
  },
  "kernelspec": {
   "display_name": "Python 3 (ipykernel)",
   "language": "python",
   "name": "python3"
  },
  "language_info": {
   "codemirror_mode": {
    "name": "ipython",
    "version": 3
   },
   "file_extension": ".py",
   "mimetype": "text/x-python",
   "name": "python",
   "nbconvert_exporter": "python",
   "pygments_lexer": "ipython3",
   "version": "3.9.9"
  }
 },
 "nbformat": 4,
 "nbformat_minor": 2
}
