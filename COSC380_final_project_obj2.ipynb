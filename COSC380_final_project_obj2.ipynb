{
 "cells": [
  {
   "cell_type": "markdown",
   "metadata": {},
   "source": [
    "Title: Finding new genes using decision tree\n",
    "\n",
    "Authors: Xi Chen, Lap Pui Chung, Sicheng Yang\n",
    "\n",
    "Date Created: 1/23/22\n",
    "\n",
    "Instrutor: Professor Steinwand\n",
    "\n",
    "Course: COSC 380\n",
    "_______\n",
    "This notebook was written for the final project.\n",
    "\n",
    "The main aim is to create a model based on the entire dataset with the hope of identifying new genes using decision tree"
   ]
  },
  {
   "cell_type": "code",
   "execution_count": 1,
   "metadata": {},
   "outputs": [],
   "source": [
    "from sklearn import tree\n",
    "from sklearn.tree import DecisionTreeClassifier\n",
    "from sklearn.model_selection import train_test_split\n",
    "import pandas as pd\n",
    "import numpy as np\n",
    "from sklearn import metrics\n",
    "import matplotlib.pyplot as plt\n",
    "from sklearn import tree\n",
    "\n",
    "np.random.seed(888)"
   ]
  },
  {
   "cell_type": "markdown",
   "metadata": {},
   "source": [
    "### Getting the data"
   ]
  },
  {
   "cell_type": "code",
   "execution_count": 2,
   "metadata": {},
   "outputs": [],
   "source": [
    "df = pd.read_csv('COSC380_data.csv')"
   ]
  },
  {
   "cell_type": "code",
   "execution_count": 3,
   "metadata": {},
   "outputs": [],
   "source": [
    "# transform the dataframe into a format that's analyzable\n",
    "df = df.T # transpose the dataframe\n",
    "df = df.rename(columns=df.iloc[0]).drop(df.index[0]).reset_index(drop=True) # move the title to the index column \n",
    "\n",
    "X_all = df.iloc[:,1:].astype('float')\n",
    "y = df['Diagnostic'].astype('uint8')"
   ]
  },
  {
   "cell_type": "code",
   "execution_count": 4,
   "metadata": {},
   "outputs": [],
   "source": [
    "# spliting into training and test\n",
    "X_train, X_test, y_train, y_test = train_test_split(\n",
    "    X_all, y, test_size=0.3, random_state=888)"
   ]
  },
  {
   "cell_type": "code",
   "execution_count": 5,
   "metadata": {},
   "outputs": [],
   "source": [
    "# fitting the model with decision tree\n",
    "model = DecisionTreeClassifier().fit(X_train,y_train)"
   ]
  },
  {
   "cell_type": "code",
   "execution_count": 6,
   "metadata": {},
   "outputs": [
    {
     "name": "stdout",
     "output_type": "stream",
     "text": [
      "Accuracy: 0.6491228070175439\n",
      "Precision: 0.6923076923076923\n",
      "Recall: 0.6\n",
      "F1: 0.6428571428571429\n"
     ]
    }
   ],
   "source": [
    "# showing the metrics for the decision tree\n",
    "y_pred = model.predict(X_test)\n",
    "\n",
    "print(\"Accuracy:\",metrics.accuracy_score(y_test, y_pred))\n",
    "print(\"Precision:\",metrics.precision_score(y_test, y_pred))\n",
    "print(\"Confusion Matrix:\\n\",confusion_matrix(y_test, y_pred))\n",
    "print(\"Recall:\",metrics.recall_score(y_test, y_pred))\n",
    "print(\"F1:\",metrics.f1_score(y_test, y_pred))"
   ]
  },
  {
   "cell_type": "markdown",
   "metadata": {},
   "source": [
    "### Pruning the tree with ccp alpha"
   ]
  },
  {
   "cell_type": "code",
   "execution_count": 7,
   "metadata": {},
   "outputs": [],
   "source": [
    "clf = DecisionTreeClassifier()\n",
    "path = clf.cost_complexity_pruning_path(X_train, y_train)\n",
    "ccp_alphas, impurities = path.ccp_alphas, path.impurities"
   ]
  },
  {
   "cell_type": "code",
   "execution_count": 8,
   "metadata": {},
   "outputs": [
    {
     "name": "stdout",
     "output_type": "stream",
     "text": [
      "Number of nodes in the last tree is: 1 with ccp_alpha: 0.14750910100786035\n"
     ]
    }
   ],
   "source": [
    "clfs = []\n",
    "for ccp_alpha in ccp_alphas:\n",
    "    clf = DecisionTreeClassifier(random_state=888, ccp_alpha=ccp_alpha)\n",
    "    clf.fit(X_train, y_train)\n",
    "    clfs.append(clf)\n",
    "print(\n",
    "    \"Number of nodes in the last tree is: {} with ccp_alpha: {}\".format(\n",
    "        clfs[-1].tree_.node_count, ccp_alphas[-1]\n",
    "    )\n",
    ")"
   ]
  },
  {
   "cell_type": "code",
   "execution_count": 9,
   "metadata": {},
   "outputs": [
    {
     "data": {
      "image/png": "[encoded data removed]",
      "text/plain": [
       "<Figure size 432x288 with 1 Axes>"
      ]
     },
     "metadata": {
      "needs_background": "light"
     },
     "output_type": "display_data"
    }
   ],
   "source": [
    "train_scores = [clf.score(X_train, y_train) for clf in clfs]\n",
    "test_scores = [clf.score(X_test, y_test) for clf in clfs]\n",
    "\n",
    "fig, ax = plt.subplots()\n",
    "ax.set_xlabel(\"alpha\")\n",
    "ax.set_ylabel(\"accuracy\")\n",
    "ax.set_title(\"Accuracy vs alpha for training and testing sets\")\n",
    "ax.plot(ccp_alphas, train_scores, marker=\"o\", label=\"train\", drawstyle=\"steps-post\")\n",
    "ax.plot(ccp_alphas, test_scores, marker=\"o\", label=\"test\", drawstyle=\"steps-post\")\n",
    "ax.legend()\n",
    "plt.show()"
   ]
  },
  {
   "cell_type": "code",
   "execution_count": 10,
   "metadata": {},
   "outputs": [
    {
     "name": "stdout",
     "output_type": "stream",
     "text": [
      "Accuracy: 0.6666666666666666\n",
      "Precision: 0.7037037037037037\n",
      "Recall: 0.6333333333333333\n",
      "F1: 0.6666666666666667\n"
     ]
    }
   ],
   "source": [
    "# it looks like the model is less overfit when ccp is 0.085, so ccp will be set to 0.085\n",
    "model = DecisionTreeClassifier(criterion = 'gini',\n",
    "                              ccp_alpha = 0.085).fit(X_train,y_train)\n",
    "y_pred = model.predict(X_test)\n",
    "print(\"Accuracy:\",metrics.accuracy_score(y_test, y_pred))\n",
    "print(\"Precision:\",metrics.precision_score(y_test, y_pred))\n",
    "print(\"Confusion Matrix:\\n\",confusion_matrix(y_test, y_pred))\n",
    "print(\"Recall:\",metrics.recall_score(y_test, y_pred))\n",
    "print(\"F1:\",metrics.f1_score(y_test, y_pred))"
   ]
  },
  {
   "cell_type": "code",
   "execution_count": 11,
   "metadata": {},
   "outputs": [
    {
     "data": {
      "text/plain": [
       "[Text(0.6666666666666666, 0.875, 'X[6153] <= 6.203\\ngini = 0.5\\nsamples = 130\\nvalue = [63, 67]'),\n",
       " Text(0.5, 0.625, 'X[11708] <= 6.155\\ngini = 0.451\\nsamples = 93\\nvalue = [61, 32]'),\n",
       " Text(0.3333333333333333, 0.375, 'X[13792] <= 12.877\\ngini = 0.351\\nsamples = 75\\nvalue = [58, 17]'),\n",
       " Text(0.16666666666666666, 0.125, 'gini = 0.195\\nsamples = 64\\nvalue = [57, 7]'),\n",
       " Text(0.5, 0.125, 'gini = 0.165\\nsamples = 11\\nvalue = [1, 10]'),\n",
       " Text(0.6666666666666666, 0.375, 'gini = 0.278\\nsamples = 18\\nvalue = [3, 15]'),\n",
       " Text(0.8333333333333334, 0.625, 'gini = 0.102\\nsamples = 37\\nvalue = [2, 35]')]"
      ]
     },
     "execution_count": 11,
     "metadata": {},
     "output_type": "execute_result"
    },
    {
     "data": {
      "image/png": "[encoded data removed]",
      "text/plain": [
       "<Figure size 432x288 with 1 Axes>"
      ]
     },
     "metadata": {
      "needs_background": "light"
     },
     "output_type": "display_data"
    }
   ],
   "source": [
    "tree.plot_tree(model)"
   ]
  },
  {
   "cell_type": "markdown",
   "metadata": {},
   "source": [
    "### Getting the names of the genes "
   ]
  },
  {
   "cell_type": "code",
   "execution_count": 12,
   "metadata": {},
   "outputs": [
    {
     "data": {
      "text/plain": [
       "'206628_at'"
      ]
     },
     "execution_count": 12,
     "metadata": {},
     "output_type": "execute_result"
    }
   ],
   "source": [
    "X_all.iloc[:,6153].name"
   ]
  },
  {
   "cell_type": "code",
   "execution_count": 13,
   "metadata": {},
   "outputs": [
    {
     "data": {
      "text/plain": [
       "'212324_s_at'"
      ]
     },
     "execution_count": 13,
     "metadata": {},
     "output_type": "execute_result"
    }
   ],
   "source": [
    "X_all.iloc[:,11708].name"
   ]
  },
  {
   "cell_type": "code",
   "execution_count": 14,
   "metadata": {},
   "outputs": [
    {
     "data": {
      "text/plain": [
       "'214414_x_at'"
      ]
     },
     "execution_count": 14,
     "metadata": {},
     "output_type": "execute_result"
    }
   ],
   "source": [
    "X_all.iloc[:,13792].name"
   ]
  },
  {
   "cell_type": "code",
   "execution_count": 15,
   "metadata": {},
   "outputs": [],
   "source": [
    "# check whether the genes from the decision tree appear in the paper or not \n",
    "\n",
    "identified_genes = ['203881_s_at','203413_at','209656_s_at','221310_at','209369_at','209267_s_at','210145_at','214146_s_at','218976_at','210397_at','211506_s_at','210168_at','209774_x_at',\n",
    "'204006_s_at','208892_s_at','202833_s_at','216834_at','202935_s_at','202704_at','201926_s_at','209189_at','201925_s_at','201444_s_at','203908_at','201946_s_at','208654_s_at',\n",
    "'200760_s_at','201399_s_at','212006_at','210317_s_at','207791_s_at','201689_s_at','204427_s_at','202118_s_at','220199_s_at','217826_s_at','200729_s_at','201635_s_at',\n",
    "'214007_s_at','221765_at','215628_x_at','207756_at','206056_x_at','207953_at','215208_x_at','215609_at','216858_x_at','204403_x_at','215978_x_at','222104_x_at','208246_x_at',\n",
    "'208137_x_at','206169_x_at','210679_x_at','215604_x_at','219392_x_at','215600_x_at','217715_x_at','214594_x_at','214715_x_at','218155_x_at','214707_x_at','217679_x_at','215907_at',\n",
    "'217653_x_at','207730_x_at','219678_x_at','220720_x_at','213089_at','217446_x_at','222358_x_at','215800_at','221191_at','209204_at','215204_at','215385_at','213813_x_at','220389_at','213736_at','222027_at']"
   ]
  },
  {
   "cell_type": "code",
   "execution_count": 16,
   "metadata": {},
   "outputs": [
    {
     "name": "stdout",
     "output_type": "stream",
     "text": [
      "True\n",
      "True\n",
      "True\n"
     ]
    }
   ],
   "source": [
    "for gene in [6153,11708,13792]:\n",
    "    print(X_all.iloc[:,gene].name not in identified_genes)\n"
   ]
  }
 ],
 "metadata": {
  "interpreter": {
   "hash": "9056a989d55af7ec00911c0a47477c8acfe40ea8532ecdb52e3ecffe1643ba6a"
  },
  "kernelspec": {
   "display_name": "Python 3 (ipykernel)",
   "language": "python",
   "name": "python3"
  },
  "language_info": {
   "codemirror_mode": {
    "name": "ipython",
    "version": 3
   },
   "file_extension": ".py",
   "mimetype": "text/x-python",
   "name": "python",
   "nbconvert_exporter": "python",
   "pygments_lexer": "ipython3",
   "version": "3.9.9"
  }
 },
 "nbformat": 4,
 "nbformat_minor": 2
}
